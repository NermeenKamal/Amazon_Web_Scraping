{
 "cells": [
  {
   "cell_type": "markdown",
   "id": "0c73ccd3-b755-4b48-9712-4581fe2d9cff",
   "metadata": {},
   "source": [
    "#  **TASK 2**"
   ]
  },
  {
   "cell_type": "markdown",
   "id": "52132bd9-6adc-43bd-82ad-efbce0666935",
   "metadata": {},
   "source": [
    "----------------"
   ]
  },
  {
   "cell_type": "markdown",
   "id": "e060ebd4-6a21-4bf9-a7c2-b797fdbecec5",
   "metadata": {},
   "source": [
    " # Problem Definition"
   ]
  },
  {
   "cell_type": "markdown",
   "id": "0ce57fb5-63d0-4273-b623-05c8ee4d808d",
   "metadata": {},
   "source": [
    "- The dataset comprises information about various beauty and personal care products, including their names and prices.\n",
    "- The objective is to analyze the dataset and derive insights that can help both consumers and sellers."
   ]
  },
  {
   "cell_type": "markdown",
   "id": "cba72ec4-4296-415b-8c87-2d6bec4ed69c",
   "metadata": {},
   "source": [
    "----------------"
   ]
  },
  {
   "cell_type": "markdown",
   "id": "d089622f-1f66-4ffd-8538-85537d87af4a",
   "metadata": {},
   "source": [
    "# [Url](https://www.amazon.eg/s?i=beauty&rh=n%3A21826026031%2Cp_6%3AA1ZVRGNO5AYLOV&dc&fs=true&language=en&ds=v1%3AbqKFffr9dbH%2B1SHo%2FWsOjhFdCLTLwtM5LzsotRp0Y1U&qid=1714926236&rnid=21909121031&ref=sr_nr_p_6_1) "
   ]
  },
  {
   "cell_type": "markdown",
   "id": "a2a770c1-04aa-4a03-bf8f-89d5e28b2cde",
   "metadata": {},
   "source": [
    "----------------"
   ]
  },
  {
   "cell_type": "markdown",
   "id": "3b4e4df8-8172-483c-9a7b-fa427ecf42cf",
   "metadata": {},
   "source": [
    "# Web Scraping "
   ]
  },
  {
   "cell_type": "markdown",
   "id": "c82c2deb-6894-4be8-becd-48a2f78581cc",
   "metadata": {},
   "source": [
    "### Bringing All Together"
   ]
  },
  {
   "cell_type": "code",
   "execution_count": 1,
   "id": "f432deec-181b-4aaf-93c1-cb12e6c95730",
   "metadata": {},
   "outputs": [
    {
     "name": "stdout",
     "output_type": "stream",
     "text": [
      "Scraping complete.\n",
      "Total rows scraped: 1026\n"
     ]
    }
   ],
   "source": [
    "import requests\n",
    "from bs4 import BeautifulSoup\n",
    "import pandas as pd\n",
    "import matplotlib.pyplot as plt\n",
    "import csv\n",
    "\n",
    "with open(\"Data_science.csv\", \"w\", encoding=\"utf-8\") as f:\n",
    "    writer = csv.writer(f)\n",
    "    writer.writerow([\"Price\", \"Name\"])\n",
    "\n",
    "    row_count = 0\n",
    "\n",
    "    num_pages = 106\n",
    "\n",
    "    for page in range(1, num_pages + 1):\n",
    "        url = f\"https://www.amazon.eg/s?i=beauty&rh=n%3A21826026031&dc&fs=true&language=en&qid=1714929530&rnid=21909125031&ref=sr_pg_{page}\"\n",
    "\n",
    "        response = requests.get(url)\n",
    "\n",
    "        soup = BeautifulSoup(response.text, \"html.parser\")\n",
    "\n",
    "        containers = soup.findAll(\"div\", {\"class\": \"sg-col-inner\"})\n",
    "\n",
    "        for i in containers:\n",
    "            price = i.findAll(\"span\", {\"class\": \"a-price-whole\"})\n",
    "            price = price[0].text.strip() if price else \"Not Available\"\n",
    "            \n",
    "            name = i.findAll(\"span\", {\"class\": \"a-size-base-plus a-color-base a-text-normal\"})\n",
    "            name = name[0].text.strip() if name else \"Not Available\"\n",
    "\n",
    "            writer.writerow([price, name])\n",
    "            \n",
    "            row_count += 1\n",
    "            \n",
    "            if row_count > 1700:\n",
    "                break\n",
    "\n",
    "        if row_count > 1000:\n",
    "            break\n",
    "\n",
    "print(\"Scraping complete.\")\n",
    "print(\"Total rows scraped:\", row_count)\n"
   ]
  },
  {
   "cell_type": "markdown",
   "id": "d80bdc61-6765-43ee-8a70-28f6453a54a8",
   "metadata": {},
   "source": [
    "### read file with pandas "
   ]
  },
  {
   "cell_type": "code",
   "execution_count": 2,
   "id": "591465de-817b-413f-83c3-7ef1b8e513bc",
   "metadata": {},
   "outputs": [],
   "source": [
    "import pandas as pd"
   ]
  },
  {
   "cell_type": "code",
   "execution_count": 3,
   "id": "d6c52b06-047b-46f6-95e6-f275699feece",
   "metadata": {},
   "outputs": [],
   "source": [
    "amazon=pd.read_csv('Data_science.csv')"
   ]
  },
  {
   "cell_type": "code",
   "execution_count": 4,
   "id": "480382d0-d32b-4a54-9d8a-233b1324f4d7",
   "metadata": {},
   "outputs": [
    {
     "data": {
      "text/html": [
       "<div>\n",
       "<style scoped>\n",
       "    .dataframe tbody tr th:only-of-type {\n",
       "        vertical-align: middle;\n",
       "    }\n",
       "\n",
       "    .dataframe tbody tr th {\n",
       "        vertical-align: top;\n",
       "    }\n",
       "\n",
       "    .dataframe thead th {\n",
       "        text-align: right;\n",
       "    }\n",
       "</style>\n",
       "<table border=\"1\" class=\"dataframe\">\n",
       "  <thead>\n",
       "    <tr style=\"text-align: right;\">\n",
       "      <th></th>\n",
       "      <th>Price</th>\n",
       "      <th>Name</th>\n",
       "    </tr>\n",
       "  </thead>\n",
       "  <tbody>\n",
       "    <tr>\n",
       "      <th>0</th>\n",
       "      <td>Not Available</td>\n",
       "      <td>Not Available</td>\n",
       "    </tr>\n",
       "    <tr>\n",
       "      <th>1</th>\n",
       "      <td>Not Available</td>\n",
       "      <td>Not Available</td>\n",
       "    </tr>\n",
       "    <tr>\n",
       "      <th>2</th>\n",
       "      <td>Not Available</td>\n",
       "      <td>Not Available</td>\n",
       "    </tr>\n",
       "    <tr>\n",
       "      <th>3</th>\n",
       "      <td>Not Available</td>\n",
       "      <td>Not Available</td>\n",
       "    </tr>\n",
       "    <tr>\n",
       "      <th>4</th>\n",
       "      <td>80.</td>\n",
       "      <td>Purity - Rosemary Oil Steam Distilled 100% Pur...</td>\n",
       "    </tr>\n",
       "    <tr>\n",
       "      <th>...</th>\n",
       "      <td>...</td>\n",
       "      <td>...</td>\n",
       "    </tr>\n",
       "    <tr>\n",
       "      <th>1021</th>\n",
       "      <td>60.</td>\n",
       "      <td>Purity - Rosehip Oil Unrefined , Carrier for E...</td>\n",
       "    </tr>\n",
       "    <tr>\n",
       "      <th>1022</th>\n",
       "      <td>317.</td>\n",
       "      <td>FOGG SCENT Oud for Men, Eau de Parfum - 100 ml</td>\n",
       "    </tr>\n",
       "    <tr>\n",
       "      <th>1023</th>\n",
       "      <td>78.</td>\n",
       "      <td>FOGG Masters Body Spray Cedar For Men</td>\n",
       "    </tr>\n",
       "    <tr>\n",
       "      <th>1024</th>\n",
       "      <td>665.</td>\n",
       "      <td>Prime Sauvage Perfume for Men - 100 ml</td>\n",
       "    </tr>\n",
       "    <tr>\n",
       "      <th>1025</th>\n",
       "      <td>Not Available</td>\n",
       "      <td>Not Available</td>\n",
       "    </tr>\n",
       "  </tbody>\n",
       "</table>\n",
       "<p>1026 rows × 2 columns</p>\n",
       "</div>"
      ],
      "text/plain": [
       "              Price                                               Name\n",
       "0     Not Available                                      Not Available\n",
       "1     Not Available                                      Not Available\n",
       "2     Not Available                                      Not Available\n",
       "3     Not Available                                      Not Available\n",
       "4               80.  Purity - Rosemary Oil Steam Distilled 100% Pur...\n",
       "...             ...                                                ...\n",
       "1021            60.  Purity - Rosehip Oil Unrefined , Carrier for E...\n",
       "1022           317.     FOGG SCENT Oud for Men, Eau de Parfum - 100 ml\n",
       "1023            78.              FOGG Masters Body Spray Cedar For Men\n",
       "1024           665.             Prime Sauvage Perfume for Men - 100 ml\n",
       "1025  Not Available                                      Not Available\n",
       "\n",
       "[1026 rows x 2 columns]"
      ]
     },
     "execution_count": 4,
     "metadata": {},
     "output_type": "execute_result"
    }
   ],
   "source": [
    "amazon"
   ]
  },
  {
   "cell_type": "code",
   "execution_count": 5,
   "id": "3a9931c7-f9ce-4df9-b692-4549fa046d3f",
   "metadata": {},
   "outputs": [
    {
     "name": "stdout",
     "output_type": "stream",
     "text": [
      "<class 'pandas.core.frame.DataFrame'>\n",
      "RangeIndex: 1026 entries, 0 to 1025\n",
      "Data columns (total 2 columns):\n",
      " #   Column  Non-Null Count  Dtype \n",
      "---  ------  --------------  ----- \n",
      " 0   Price   1026 non-null   object\n",
      " 1   Name    1026 non-null   object\n",
      "dtypes: object(2)\n",
      "memory usage: 16.2+ KB\n"
     ]
    }
   ],
   "source": [
    "amazon.info()"
   ]
  },
  {
   "cell_type": "markdown",
   "id": "495f72a0-0923-4c0c-9994-dcfdc7ffc172",
   "metadata": {},
   "source": [
    "----------------"
   ]
  },
  {
   "cell_type": "markdown",
   "id": "7d639004-43da-404f-a4a3-9c240122694b",
   "metadata": {},
   "source": [
    "# Data pre-processing methods\n",
    "1. `Handling DataTypes`\n",
    "2. `Handling missing values`\n",
    "3. `Removing duplicates`\n",
    "4. `Handling outliers`"
   ]
  },
  {
   "cell_type": "code",
   "execution_count": 39,
   "id": "2a0b2661-68a7-49f7-ac1d-e850a093d445",
   "metadata": {},
   "outputs": [],
   "source": [
    "amazon['Price'] = pd.to_numeric(amazon['Price'], errors='coerce')"
   ]
  },
  {
   "cell_type": "code",
   "execution_count": 40,
   "id": "19e0c484-8188-45a5-ab0b-c02c797dd419",
   "metadata": {},
   "outputs": [
    {
     "data": {
      "text/plain": [
       "Price    float64\n",
       "Name      object\n",
       "dtype: object"
      ]
     },
     "execution_count": 40,
     "metadata": {},
     "output_type": "execute_result"
    }
   ],
   "source": [
    "test=amazon.dtypes\n",
    "test"
   ]
  },
  {
   "cell_type": "code",
   "execution_count": 41,
   "id": "bd25a5f5-d9a5-4552-b61f-04fc2ca04d33",
   "metadata": {},
   "outputs": [],
   "source": [
    "# Convert 'Not Available' to NaN\n",
    "amazon.replace('Not Available', pd.NA, inplace=True)\n",
    "\n",
    "# Drop rows with NaN values\n",
    "amazon.dropna(subset=['Price', 'Name'], inplace=True)"
   ]
  },
  {
   "cell_type": "code",
   "execution_count": 42,
   "id": "6c040d6a-8819-4924-ae4d-2577dc7039c0",
   "metadata": {},
   "outputs": [
    {
     "data": {
      "text/html": [
       "<div>\n",
       "<style scoped>\n",
       "    .dataframe tbody tr th:only-of-type {\n",
       "        vertical-align: middle;\n",
       "    }\n",
       "\n",
       "    .dataframe tbody tr th {\n",
       "        vertical-align: top;\n",
       "    }\n",
       "\n",
       "    .dataframe thead th {\n",
       "        text-align: right;\n",
       "    }\n",
       "</style>\n",
       "<table border=\"1\" class=\"dataframe\">\n",
       "  <thead>\n",
       "    <tr style=\"text-align: right;\">\n",
       "      <th></th>\n",
       "      <th>Price</th>\n",
       "      <th>Name</th>\n",
       "    </tr>\n",
       "  </thead>\n",
       "  <tbody>\n",
       "    <tr>\n",
       "      <th>0</th>\n",
       "      <td>80.0</td>\n",
       "      <td>Purity - Rosemary Oil Steam Distilled 100% Pur...</td>\n",
       "    </tr>\n",
       "    <tr>\n",
       "      <th>1</th>\n",
       "      <td>78.0</td>\n",
       "      <td>Fogg marco perfume spray for men - 120 ml</td>\n",
       "    </tr>\n",
       "    <tr>\n",
       "      <th>2</th>\n",
       "      <td>78.0</td>\n",
       "      <td>Fogg royal perfume spray men - 120 ml</td>\n",
       "    </tr>\n",
       "    <tr>\n",
       "      <th>3</th>\n",
       "      <td>414.0</td>\n",
       "      <td>La Muse Salute Man by La Muse Eau De Parfum Sp...</td>\n",
       "    </tr>\n",
       "    <tr>\n",
       "      <th>4</th>\n",
       "      <td>175.0</td>\n",
       "      <td>Rosemary oil for hair, rosemary oil for hair g...</td>\n",
       "    </tr>\n",
       "    <tr>\n",
       "      <th>5</th>\n",
       "      <td>61.0</td>\n",
       "      <td>Eau de cologne twist berries 250 ml</td>\n",
       "    </tr>\n",
       "    <tr>\n",
       "      <th>6</th>\n",
       "      <td>32.0</td>\n",
       "      <td>X Pocket Men's Leather &amp; Cookies 17ml</td>\n",
       "    </tr>\n",
       "    <tr>\n",
       "      <th>7</th>\n",
       "      <td>70.0</td>\n",
       "      <td>JOHNSON’S Baby Cologne, Dream, 100ml</td>\n",
       "    </tr>\n",
       "    <tr>\n",
       "      <th>8</th>\n",
       "      <td>175.0</td>\n",
       "      <td>Fogg scent oud for men, eau de parfum - 50 ml</td>\n",
       "    </tr>\n",
       "    <tr>\n",
       "      <th>9</th>\n",
       "      <td>70.0</td>\n",
       "      <td>AVUVA Body Splash Vanilla Coconut 55ml</td>\n",
       "    </tr>\n",
       "    <tr>\n",
       "      <th>10</th>\n",
       "      <td>472.0</td>\n",
       "      <td>One Man Show by Jacques Bogart For Men, Eau de...</td>\n",
       "    </tr>\n",
       "    <tr>\n",
       "      <th>11</th>\n",
       "      <td>78.0</td>\n",
       "      <td>Fogg absolute unisex perfume spray, 120ml</td>\n",
       "    </tr>\n",
       "    <tr>\n",
       "      <th>12</th>\n",
       "      <td>84.0</td>\n",
       "      <td>Fogg DYNAMIC Perfume Spray For Unisex - 120 Ml</td>\n",
       "    </tr>\n",
       "    <tr>\n",
       "      <th>13</th>\n",
       "      <td>78.0</td>\n",
       "      <td>Fogg VICTOR Perfume Spray For Unisex - 120 Ml</td>\n",
       "    </tr>\n",
       "    <tr>\n",
       "      <th>14</th>\n",
       "      <td>203.0</td>\n",
       "      <td>Eva Skin Care Senses Body Splash - In the Clou...</td>\n",
       "    </tr>\n",
       "    <tr>\n",
       "      <th>15</th>\n",
       "      <td>80.0</td>\n",
       "      <td>Fogg Essence Perfume Spray For Women - 120ml</td>\n",
       "    </tr>\n",
       "    <tr>\n",
       "      <th>16</th>\n",
       "      <td>911.0</td>\n",
       "      <td>Guess gold eau de parfum for women 75ml</td>\n",
       "    </tr>\n",
       "    <tr>\n",
       "      <th>17</th>\n",
       "      <td>678.0</td>\n",
       "      <td>Jaguar Men`s Classic Black Eau De Toilette Spr...</td>\n",
       "    </tr>\n",
       "    <tr>\n",
       "      <th>18</th>\n",
       "      <td>26.0</td>\n",
       "      <td>Fogg Perfume Spray Pocket - OAK 17 ML</td>\n",
       "    </tr>\n",
       "    <tr>\n",
       "      <th>19</th>\n",
       "      <td>159.0</td>\n",
       "      <td>Fogg scent oriental for men, eau de parfum - 5...</td>\n",
       "    </tr>\n",
       "    <tr>\n",
       "      <th>20</th>\n",
       "      <td>60.0</td>\n",
       "      <td>Purity - Tea Tree Essential Oil , 100% Pure Na...</td>\n",
       "    </tr>\n",
       "    <tr>\n",
       "      <th>21</th>\n",
       "      <td>190.0</td>\n",
       "      <td>Eva Skin Care Senses Body Splash - Love Tale 2...</td>\n",
       "    </tr>\n",
       "    <tr>\n",
       "      <th>22</th>\n",
       "      <td>388.0</td>\n",
       "      <td>Avon far away for women edp 50 ml</td>\n",
       "    </tr>\n",
       "    <tr>\n",
       "      <th>23</th>\n",
       "      <td>51.0</td>\n",
       "      <td>AVUVA Body Splash Cherry Blossom 55 ml</td>\n",
       "    </tr>\n",
       "    <tr>\n",
       "      <th>24</th>\n",
       "      <td>68.0</td>\n",
       "      <td>Musk Al Tahara Pure Saudi Altahara Perfume White</td>\n",
       "    </tr>\n",
       "    <tr>\n",
       "      <th>25</th>\n",
       "      <td>126.0</td>\n",
       "      <td>KAYZON Travel Mini Perfume Refillable Atomizer...</td>\n",
       "    </tr>\n",
       "    <tr>\n",
       "      <th>26</th>\n",
       "      <td>678.0</td>\n",
       "      <td>Jaguar classic black eau de toilette spray 3.4...</td>\n",
       "    </tr>\n",
       "    <tr>\n",
       "      <th>27</th>\n",
       "      <td>539.0</td>\n",
       "      <td>GIORGIO BLACK SPECIAL EDITION (M) EDP 100ml</td>\n",
       "    </tr>\n",
       "    <tr>\n",
       "      <th>28</th>\n",
       "      <td>174.0</td>\n",
       "      <td>AVUVA Body Splash Vanilla Coconut 253 ml</td>\n",
       "    </tr>\n",
       "    <tr>\n",
       "      <th>29</th>\n",
       "      <td>411.0</td>\n",
       "      <td>Rare pearls by avon for women - eau de parfum,...</td>\n",
       "    </tr>\n",
       "    <tr>\n",
       "      <th>30</th>\n",
       "      <td>80.0</td>\n",
       "      <td>Fogg extreme perfume spray for unisex - 120 ml</td>\n",
       "    </tr>\n",
       "    <tr>\n",
       "      <th>31</th>\n",
       "      <td>80.0</td>\n",
       "      <td>Fogg perfume spray 120 ml - celebrate</td>\n",
       "    </tr>\n",
       "    <tr>\n",
       "      <th>32</th>\n",
       "      <td>84.0</td>\n",
       "      <td>Man look after shave balm w. aloe vera for sen...</td>\n",
       "    </tr>\n",
       "    <tr>\n",
       "      <th>33</th>\n",
       "      <td>175.0</td>\n",
       "      <td>ZAK Rebel Spray For Men, Eau De Toilette - 175 ml</td>\n",
       "    </tr>\n",
       "    <tr>\n",
       "      <th>34</th>\n",
       "      <td>138.0</td>\n",
       "      <td>AVUVA Body Splash Passion Fruit 253 ml</td>\n",
       "    </tr>\n",
       "    <tr>\n",
       "      <th>35</th>\n",
       "      <td>235.0</td>\n",
       "      <td>NIVEA MEN After Shave Lotion, DEEP Antibacteri...</td>\n",
       "    </tr>\n",
       "    <tr>\n",
       "      <th>36</th>\n",
       "      <td>84.0</td>\n",
       "      <td>Fa Perfect Wave Refreshing Eau De Cologne For ...</td>\n",
       "    </tr>\n",
       "    <tr>\n",
       "      <th>37</th>\n",
       "      <td>60.0</td>\n",
       "      <td>Purity - Rosehip Oil Unrefined , Carrier for E...</td>\n",
       "    </tr>\n",
       "    <tr>\n",
       "      <th>38</th>\n",
       "      <td>317.0</td>\n",
       "      <td>FOGG SCENT Oud for Men, Eau de Parfum - 100 ml</td>\n",
       "    </tr>\n",
       "    <tr>\n",
       "      <th>39</th>\n",
       "      <td>78.0</td>\n",
       "      <td>FOGG Masters Body Spray Cedar For Men</td>\n",
       "    </tr>\n",
       "    <tr>\n",
       "      <th>40</th>\n",
       "      <td>665.0</td>\n",
       "      <td>Prime Sauvage Perfume for Men - 100 ml</td>\n",
       "    </tr>\n",
       "  </tbody>\n",
       "</table>\n",
       "</div>"
      ],
      "text/plain": [
       "    Price                                               Name\n",
       "0    80.0  Purity - Rosemary Oil Steam Distilled 100% Pur...\n",
       "1    78.0          Fogg marco perfume spray for men - 120 ml\n",
       "2    78.0              Fogg royal perfume spray men - 120 ml\n",
       "3   414.0  La Muse Salute Man by La Muse Eau De Parfum Sp...\n",
       "4   175.0  Rosemary oil for hair, rosemary oil for hair g...\n",
       "5    61.0                Eau de cologne twist berries 250 ml\n",
       "6    32.0              X Pocket Men's Leather & Cookies 17ml\n",
       "7    70.0               JOHNSON’S Baby Cologne, Dream, 100ml\n",
       "8   175.0      Fogg scent oud for men, eau de parfum - 50 ml\n",
       "9    70.0             AVUVA Body Splash Vanilla Coconut 55ml\n",
       "10  472.0  One Man Show by Jacques Bogart For Men, Eau de...\n",
       "11   78.0          Fogg absolute unisex perfume spray, 120ml\n",
       "12   84.0     Fogg DYNAMIC Perfume Spray For Unisex - 120 Ml\n",
       "13   78.0      Fogg VICTOR Perfume Spray For Unisex - 120 Ml\n",
       "14  203.0  Eva Skin Care Senses Body Splash - In the Clou...\n",
       "15   80.0       Fogg Essence Perfume Spray For Women - 120ml\n",
       "16  911.0            Guess gold eau de parfum for women 75ml\n",
       "17  678.0  Jaguar Men`s Classic Black Eau De Toilette Spr...\n",
       "18   26.0              Fogg Perfume Spray Pocket - OAK 17 ML\n",
       "19  159.0  Fogg scent oriental for men, eau de parfum - 5...\n",
       "20   60.0  Purity - Tea Tree Essential Oil , 100% Pure Na...\n",
       "21  190.0  Eva Skin Care Senses Body Splash - Love Tale 2...\n",
       "22  388.0                  Avon far away for women edp 50 ml\n",
       "23   51.0             AVUVA Body Splash Cherry Blossom 55 ml\n",
       "24   68.0   Musk Al Tahara Pure Saudi Altahara Perfume White\n",
       "25  126.0  KAYZON Travel Mini Perfume Refillable Atomizer...\n",
       "26  678.0  Jaguar classic black eau de toilette spray 3.4...\n",
       "27  539.0        GIORGIO BLACK SPECIAL EDITION (M) EDP 100ml\n",
       "28  174.0           AVUVA Body Splash Vanilla Coconut 253 ml\n",
       "29  411.0  Rare pearls by avon for women - eau de parfum,...\n",
       "30   80.0     Fogg extreme perfume spray for unisex - 120 ml\n",
       "31   80.0              Fogg perfume spray 120 ml - celebrate\n",
       "32   84.0  Man look after shave balm w. aloe vera for sen...\n",
       "33  175.0  ZAK Rebel Spray For Men, Eau De Toilette - 175 ml\n",
       "34  138.0             AVUVA Body Splash Passion Fruit 253 ml\n",
       "35  235.0  NIVEA MEN After Shave Lotion, DEEP Antibacteri...\n",
       "36   84.0  Fa Perfect Wave Refreshing Eau De Cologne For ...\n",
       "37   60.0  Purity - Rosehip Oil Unrefined , Carrier for E...\n",
       "38  317.0     FOGG SCENT Oud for Men, Eau de Parfum - 100 ml\n",
       "39   78.0              FOGG Masters Body Spray Cedar For Men\n",
       "40  665.0             Prime Sauvage Perfume for Men - 100 ml"
      ]
     },
     "execution_count": 42,
     "metadata": {},
     "output_type": "execute_result"
    }
   ],
   "source": [
    "amazon"
   ]
  },
  {
   "cell_type": "code",
   "execution_count": 43,
   "id": "3aa0644e-e80e-404d-b459-e8f3c9cf2fd0",
   "metadata": {},
   "outputs": [],
   "source": [
    "# Remove duplicate rows\n",
    "amazon.drop_duplicates(inplace=True)\n",
    "# Remove duplicate columns\n",
    "amazon = amazon.T.drop_duplicates().T"
   ]
  },
  {
   "cell_type": "code",
   "execution_count": 44,
   "id": "9ad6ef98-de04-4d08-bb5f-7cf9ef184b3a",
   "metadata": {},
   "outputs": [
    {
     "data": {
      "text/html": [
       "<div>\n",
       "<style scoped>\n",
       "    .dataframe tbody tr th:only-of-type {\n",
       "        vertical-align: middle;\n",
       "    }\n",
       "\n",
       "    .dataframe tbody tr th {\n",
       "        vertical-align: top;\n",
       "    }\n",
       "\n",
       "    .dataframe thead th {\n",
       "        text-align: right;\n",
       "    }\n",
       "</style>\n",
       "<table border=\"1\" class=\"dataframe\">\n",
       "  <thead>\n",
       "    <tr style=\"text-align: right;\">\n",
       "      <th></th>\n",
       "      <th>Price</th>\n",
       "      <th>Name</th>\n",
       "    </tr>\n",
       "  </thead>\n",
       "  <tbody>\n",
       "    <tr>\n",
       "      <th>0</th>\n",
       "      <td>80.0</td>\n",
       "      <td>Purity - Rosemary Oil Steam Distilled 100% Pur...</td>\n",
       "    </tr>\n",
       "    <tr>\n",
       "      <th>1</th>\n",
       "      <td>78.0</td>\n",
       "      <td>Fogg marco perfume spray for men - 120 ml</td>\n",
       "    </tr>\n",
       "    <tr>\n",
       "      <th>2</th>\n",
       "      <td>78.0</td>\n",
       "      <td>Fogg royal perfume spray men - 120 ml</td>\n",
       "    </tr>\n",
       "    <tr>\n",
       "      <th>3</th>\n",
       "      <td>414.0</td>\n",
       "      <td>La Muse Salute Man by La Muse Eau De Parfum Sp...</td>\n",
       "    </tr>\n",
       "    <tr>\n",
       "      <th>4</th>\n",
       "      <td>175.0</td>\n",
       "      <td>Rosemary oil for hair, rosemary oil for hair g...</td>\n",
       "    </tr>\n",
       "    <tr>\n",
       "      <th>5</th>\n",
       "      <td>61.0</td>\n",
       "      <td>Eau de cologne twist berries 250 ml</td>\n",
       "    </tr>\n",
       "    <tr>\n",
       "      <th>6</th>\n",
       "      <td>32.0</td>\n",
       "      <td>X Pocket Men's Leather &amp; Cookies 17ml</td>\n",
       "    </tr>\n",
       "    <tr>\n",
       "      <th>7</th>\n",
       "      <td>70.0</td>\n",
       "      <td>JOHNSON’S Baby Cologne, Dream, 100ml</td>\n",
       "    </tr>\n",
       "    <tr>\n",
       "      <th>8</th>\n",
       "      <td>175.0</td>\n",
       "      <td>Fogg scent oud for men, eau de parfum - 50 ml</td>\n",
       "    </tr>\n",
       "    <tr>\n",
       "      <th>9</th>\n",
       "      <td>70.0</td>\n",
       "      <td>AVUVA Body Splash Vanilla Coconut 55ml</td>\n",
       "    </tr>\n",
       "    <tr>\n",
       "      <th>10</th>\n",
       "      <td>472.0</td>\n",
       "      <td>One Man Show by Jacques Bogart For Men, Eau de...</td>\n",
       "    </tr>\n",
       "    <tr>\n",
       "      <th>11</th>\n",
       "      <td>78.0</td>\n",
       "      <td>Fogg absolute unisex perfume spray, 120ml</td>\n",
       "    </tr>\n",
       "    <tr>\n",
       "      <th>12</th>\n",
       "      <td>84.0</td>\n",
       "      <td>Fogg DYNAMIC Perfume Spray For Unisex - 120 Ml</td>\n",
       "    </tr>\n",
       "    <tr>\n",
       "      <th>13</th>\n",
       "      <td>78.0</td>\n",
       "      <td>Fogg VICTOR Perfume Spray For Unisex - 120 Ml</td>\n",
       "    </tr>\n",
       "    <tr>\n",
       "      <th>14</th>\n",
       "      <td>203.0</td>\n",
       "      <td>Eva Skin Care Senses Body Splash - In the Clou...</td>\n",
       "    </tr>\n",
       "    <tr>\n",
       "      <th>15</th>\n",
       "      <td>80.0</td>\n",
       "      <td>Fogg Essence Perfume Spray For Women - 120ml</td>\n",
       "    </tr>\n",
       "    <tr>\n",
       "      <th>16</th>\n",
       "      <td>911.0</td>\n",
       "      <td>Guess gold eau de parfum for women 75ml</td>\n",
       "    </tr>\n",
       "    <tr>\n",
       "      <th>17</th>\n",
       "      <td>678.0</td>\n",
       "      <td>Jaguar Men`s Classic Black Eau De Toilette Spr...</td>\n",
       "    </tr>\n",
       "    <tr>\n",
       "      <th>18</th>\n",
       "      <td>26.0</td>\n",
       "      <td>Fogg Perfume Spray Pocket - OAK 17 ML</td>\n",
       "    </tr>\n",
       "    <tr>\n",
       "      <th>19</th>\n",
       "      <td>159.0</td>\n",
       "      <td>Fogg scent oriental for men, eau de parfum - 5...</td>\n",
       "    </tr>\n",
       "    <tr>\n",
       "      <th>20</th>\n",
       "      <td>60.0</td>\n",
       "      <td>Purity - Tea Tree Essential Oil , 100% Pure Na...</td>\n",
       "    </tr>\n",
       "    <tr>\n",
       "      <th>21</th>\n",
       "      <td>190.0</td>\n",
       "      <td>Eva Skin Care Senses Body Splash - Love Tale 2...</td>\n",
       "    </tr>\n",
       "    <tr>\n",
       "      <th>22</th>\n",
       "      <td>388.0</td>\n",
       "      <td>Avon far away for women edp 50 ml</td>\n",
       "    </tr>\n",
       "    <tr>\n",
       "      <th>23</th>\n",
       "      <td>51.0</td>\n",
       "      <td>AVUVA Body Splash Cherry Blossom 55 ml</td>\n",
       "    </tr>\n",
       "    <tr>\n",
       "      <th>24</th>\n",
       "      <td>68.0</td>\n",
       "      <td>Musk Al Tahara Pure Saudi Altahara Perfume White</td>\n",
       "    </tr>\n",
       "    <tr>\n",
       "      <th>25</th>\n",
       "      <td>126.0</td>\n",
       "      <td>KAYZON Travel Mini Perfume Refillable Atomizer...</td>\n",
       "    </tr>\n",
       "    <tr>\n",
       "      <th>26</th>\n",
       "      <td>678.0</td>\n",
       "      <td>Jaguar classic black eau de toilette spray 3.4...</td>\n",
       "    </tr>\n",
       "    <tr>\n",
       "      <th>27</th>\n",
       "      <td>539.0</td>\n",
       "      <td>GIORGIO BLACK SPECIAL EDITION (M) EDP 100ml</td>\n",
       "    </tr>\n",
       "    <tr>\n",
       "      <th>28</th>\n",
       "      <td>174.0</td>\n",
       "      <td>AVUVA Body Splash Vanilla Coconut 253 ml</td>\n",
       "    </tr>\n",
       "    <tr>\n",
       "      <th>29</th>\n",
       "      <td>411.0</td>\n",
       "      <td>Rare pearls by avon for women - eau de parfum,...</td>\n",
       "    </tr>\n",
       "    <tr>\n",
       "      <th>30</th>\n",
       "      <td>80.0</td>\n",
       "      <td>Fogg extreme perfume spray for unisex - 120 ml</td>\n",
       "    </tr>\n",
       "    <tr>\n",
       "      <th>31</th>\n",
       "      <td>80.0</td>\n",
       "      <td>Fogg perfume spray 120 ml - celebrate</td>\n",
       "    </tr>\n",
       "    <tr>\n",
       "      <th>32</th>\n",
       "      <td>84.0</td>\n",
       "      <td>Man look after shave balm w. aloe vera for sen...</td>\n",
       "    </tr>\n",
       "    <tr>\n",
       "      <th>33</th>\n",
       "      <td>175.0</td>\n",
       "      <td>ZAK Rebel Spray For Men, Eau De Toilette - 175 ml</td>\n",
       "    </tr>\n",
       "    <tr>\n",
       "      <th>34</th>\n",
       "      <td>138.0</td>\n",
       "      <td>AVUVA Body Splash Passion Fruit 253 ml</td>\n",
       "    </tr>\n",
       "    <tr>\n",
       "      <th>35</th>\n",
       "      <td>235.0</td>\n",
       "      <td>NIVEA MEN After Shave Lotion, DEEP Antibacteri...</td>\n",
       "    </tr>\n",
       "    <tr>\n",
       "      <th>36</th>\n",
       "      <td>84.0</td>\n",
       "      <td>Fa Perfect Wave Refreshing Eau De Cologne For ...</td>\n",
       "    </tr>\n",
       "    <tr>\n",
       "      <th>37</th>\n",
       "      <td>60.0</td>\n",
       "      <td>Purity - Rosehip Oil Unrefined , Carrier for E...</td>\n",
       "    </tr>\n",
       "    <tr>\n",
       "      <th>38</th>\n",
       "      <td>317.0</td>\n",
       "      <td>FOGG SCENT Oud for Men, Eau de Parfum - 100 ml</td>\n",
       "    </tr>\n",
       "    <tr>\n",
       "      <th>39</th>\n",
       "      <td>78.0</td>\n",
       "      <td>FOGG Masters Body Spray Cedar For Men</td>\n",
       "    </tr>\n",
       "    <tr>\n",
       "      <th>40</th>\n",
       "      <td>665.0</td>\n",
       "      <td>Prime Sauvage Perfume for Men - 100 ml</td>\n",
       "    </tr>\n",
       "  </tbody>\n",
       "</table>\n",
       "</div>"
      ],
      "text/plain": [
       "    Price                                               Name\n",
       "0    80.0  Purity - Rosemary Oil Steam Distilled 100% Pur...\n",
       "1    78.0          Fogg marco perfume spray for men - 120 ml\n",
       "2    78.0              Fogg royal perfume spray men - 120 ml\n",
       "3   414.0  La Muse Salute Man by La Muse Eau De Parfum Sp...\n",
       "4   175.0  Rosemary oil for hair, rosemary oil for hair g...\n",
       "5    61.0                Eau de cologne twist berries 250 ml\n",
       "6    32.0              X Pocket Men's Leather & Cookies 17ml\n",
       "7    70.0               JOHNSON’S Baby Cologne, Dream, 100ml\n",
       "8   175.0      Fogg scent oud for men, eau de parfum - 50 ml\n",
       "9    70.0             AVUVA Body Splash Vanilla Coconut 55ml\n",
       "10  472.0  One Man Show by Jacques Bogart For Men, Eau de...\n",
       "11   78.0          Fogg absolute unisex perfume spray, 120ml\n",
       "12   84.0     Fogg DYNAMIC Perfume Spray For Unisex - 120 Ml\n",
       "13   78.0      Fogg VICTOR Perfume Spray For Unisex - 120 Ml\n",
       "14  203.0  Eva Skin Care Senses Body Splash - In the Clou...\n",
       "15   80.0       Fogg Essence Perfume Spray For Women - 120ml\n",
       "16  911.0            Guess gold eau de parfum for women 75ml\n",
       "17  678.0  Jaguar Men`s Classic Black Eau De Toilette Spr...\n",
       "18   26.0              Fogg Perfume Spray Pocket - OAK 17 ML\n",
       "19  159.0  Fogg scent oriental for men, eau de parfum - 5...\n",
       "20   60.0  Purity - Tea Tree Essential Oil , 100% Pure Na...\n",
       "21  190.0  Eva Skin Care Senses Body Splash - Love Tale 2...\n",
       "22  388.0                  Avon far away for women edp 50 ml\n",
       "23   51.0             AVUVA Body Splash Cherry Blossom 55 ml\n",
       "24   68.0   Musk Al Tahara Pure Saudi Altahara Perfume White\n",
       "25  126.0  KAYZON Travel Mini Perfume Refillable Atomizer...\n",
       "26  678.0  Jaguar classic black eau de toilette spray 3.4...\n",
       "27  539.0        GIORGIO BLACK SPECIAL EDITION (M) EDP 100ml\n",
       "28  174.0           AVUVA Body Splash Vanilla Coconut 253 ml\n",
       "29  411.0  Rare pearls by avon for women - eau de parfum,...\n",
       "30   80.0     Fogg extreme perfume spray for unisex - 120 ml\n",
       "31   80.0              Fogg perfume spray 120 ml - celebrate\n",
       "32   84.0  Man look after shave balm w. aloe vera for sen...\n",
       "33  175.0  ZAK Rebel Spray For Men, Eau De Toilette - 175 ml\n",
       "34  138.0             AVUVA Body Splash Passion Fruit 253 ml\n",
       "35  235.0  NIVEA MEN After Shave Lotion, DEEP Antibacteri...\n",
       "36   84.0  Fa Perfect Wave Refreshing Eau De Cologne For ...\n",
       "37   60.0  Purity - Rosehip Oil Unrefined , Carrier for E...\n",
       "38  317.0     FOGG SCENT Oud for Men, Eau de Parfum - 100 ml\n",
       "39   78.0              FOGG Masters Body Spray Cedar For Men\n",
       "40  665.0             Prime Sauvage Perfume for Men - 100 ml"
      ]
     },
     "execution_count": 44,
     "metadata": {},
     "output_type": "execute_result"
    }
   ],
   "source": [
    "amazon"
   ]
  },
  {
   "cell_type": "code",
   "execution_count": 45,
   "id": "33a828bb-9061-4270-afd4-1259bcb87858",
   "metadata": {},
   "outputs": [],
   "source": [
    "amazon.reset_index(drop=True, inplace=True)"
   ]
  },
  {
   "cell_type": "code",
   "execution_count": 46,
   "id": "b4616cda-38c7-4274-abb5-745eb64aac4d",
   "metadata": {},
   "outputs": [
    {
     "data": {
      "text/html": [
       "<div>\n",
       "<style scoped>\n",
       "    .dataframe tbody tr th:only-of-type {\n",
       "        vertical-align: middle;\n",
       "    }\n",
       "\n",
       "    .dataframe tbody tr th {\n",
       "        vertical-align: top;\n",
       "    }\n",
       "\n",
       "    .dataframe thead th {\n",
       "        text-align: right;\n",
       "    }\n",
       "</style>\n",
       "<table border=\"1\" class=\"dataframe\">\n",
       "  <thead>\n",
       "    <tr style=\"text-align: right;\">\n",
       "      <th></th>\n",
       "      <th>Price</th>\n",
       "      <th>Name</th>\n",
       "    </tr>\n",
       "  </thead>\n",
       "  <tbody>\n",
       "    <tr>\n",
       "      <th>0</th>\n",
       "      <td>80.0</td>\n",
       "      <td>Purity - Rosemary Oil Steam Distilled 100% Pur...</td>\n",
       "    </tr>\n",
       "    <tr>\n",
       "      <th>1</th>\n",
       "      <td>78.0</td>\n",
       "      <td>Fogg marco perfume spray for men - 120 ml</td>\n",
       "    </tr>\n",
       "    <tr>\n",
       "      <th>2</th>\n",
       "      <td>78.0</td>\n",
       "      <td>Fogg royal perfume spray men - 120 ml</td>\n",
       "    </tr>\n",
       "    <tr>\n",
       "      <th>3</th>\n",
       "      <td>414.0</td>\n",
       "      <td>La Muse Salute Man by La Muse Eau De Parfum Sp...</td>\n",
       "    </tr>\n",
       "    <tr>\n",
       "      <th>4</th>\n",
       "      <td>175.0</td>\n",
       "      <td>Rosemary oil for hair, rosemary oil for hair g...</td>\n",
       "    </tr>\n",
       "    <tr>\n",
       "      <th>5</th>\n",
       "      <td>61.0</td>\n",
       "      <td>Eau de cologne twist berries 250 ml</td>\n",
       "    </tr>\n",
       "    <tr>\n",
       "      <th>6</th>\n",
       "      <td>32.0</td>\n",
       "      <td>X Pocket Men's Leather &amp; Cookies 17ml</td>\n",
       "    </tr>\n",
       "    <tr>\n",
       "      <th>7</th>\n",
       "      <td>70.0</td>\n",
       "      <td>JOHNSON’S Baby Cologne, Dream, 100ml</td>\n",
       "    </tr>\n",
       "    <tr>\n",
       "      <th>8</th>\n",
       "      <td>175.0</td>\n",
       "      <td>Fogg scent oud for men, eau de parfum - 50 ml</td>\n",
       "    </tr>\n",
       "    <tr>\n",
       "      <th>9</th>\n",
       "      <td>70.0</td>\n",
       "      <td>AVUVA Body Splash Vanilla Coconut 55ml</td>\n",
       "    </tr>\n",
       "    <tr>\n",
       "      <th>10</th>\n",
       "      <td>472.0</td>\n",
       "      <td>One Man Show by Jacques Bogart For Men, Eau de...</td>\n",
       "    </tr>\n",
       "    <tr>\n",
       "      <th>11</th>\n",
       "      <td>78.0</td>\n",
       "      <td>Fogg absolute unisex perfume spray, 120ml</td>\n",
       "    </tr>\n",
       "    <tr>\n",
       "      <th>12</th>\n",
       "      <td>84.0</td>\n",
       "      <td>Fogg DYNAMIC Perfume Spray For Unisex - 120 Ml</td>\n",
       "    </tr>\n",
       "    <tr>\n",
       "      <th>13</th>\n",
       "      <td>78.0</td>\n",
       "      <td>Fogg VICTOR Perfume Spray For Unisex - 120 Ml</td>\n",
       "    </tr>\n",
       "    <tr>\n",
       "      <th>14</th>\n",
       "      <td>203.0</td>\n",
       "      <td>Eva Skin Care Senses Body Splash - In the Clou...</td>\n",
       "    </tr>\n",
       "    <tr>\n",
       "      <th>15</th>\n",
       "      <td>80.0</td>\n",
       "      <td>Fogg Essence Perfume Spray For Women - 120ml</td>\n",
       "    </tr>\n",
       "    <tr>\n",
       "      <th>16</th>\n",
       "      <td>911.0</td>\n",
       "      <td>Guess gold eau de parfum for women 75ml</td>\n",
       "    </tr>\n",
       "    <tr>\n",
       "      <th>17</th>\n",
       "      <td>678.0</td>\n",
       "      <td>Jaguar Men`s Classic Black Eau De Toilette Spr...</td>\n",
       "    </tr>\n",
       "    <tr>\n",
       "      <th>18</th>\n",
       "      <td>26.0</td>\n",
       "      <td>Fogg Perfume Spray Pocket - OAK 17 ML</td>\n",
       "    </tr>\n",
       "    <tr>\n",
       "      <th>19</th>\n",
       "      <td>159.0</td>\n",
       "      <td>Fogg scent oriental for men, eau de parfum - 5...</td>\n",
       "    </tr>\n",
       "    <tr>\n",
       "      <th>20</th>\n",
       "      <td>60.0</td>\n",
       "      <td>Purity - Tea Tree Essential Oil , 100% Pure Na...</td>\n",
       "    </tr>\n",
       "    <tr>\n",
       "      <th>21</th>\n",
       "      <td>190.0</td>\n",
       "      <td>Eva Skin Care Senses Body Splash - Love Tale 2...</td>\n",
       "    </tr>\n",
       "    <tr>\n",
       "      <th>22</th>\n",
       "      <td>388.0</td>\n",
       "      <td>Avon far away for women edp 50 ml</td>\n",
       "    </tr>\n",
       "    <tr>\n",
       "      <th>23</th>\n",
       "      <td>51.0</td>\n",
       "      <td>AVUVA Body Splash Cherry Blossom 55 ml</td>\n",
       "    </tr>\n",
       "    <tr>\n",
       "      <th>24</th>\n",
       "      <td>68.0</td>\n",
       "      <td>Musk Al Tahara Pure Saudi Altahara Perfume White</td>\n",
       "    </tr>\n",
       "    <tr>\n",
       "      <th>25</th>\n",
       "      <td>126.0</td>\n",
       "      <td>KAYZON Travel Mini Perfume Refillable Atomizer...</td>\n",
       "    </tr>\n",
       "    <tr>\n",
       "      <th>26</th>\n",
       "      <td>678.0</td>\n",
       "      <td>Jaguar classic black eau de toilette spray 3.4...</td>\n",
       "    </tr>\n",
       "    <tr>\n",
       "      <th>27</th>\n",
       "      <td>539.0</td>\n",
       "      <td>GIORGIO BLACK SPECIAL EDITION (M) EDP 100ml</td>\n",
       "    </tr>\n",
       "    <tr>\n",
       "      <th>28</th>\n",
       "      <td>174.0</td>\n",
       "      <td>AVUVA Body Splash Vanilla Coconut 253 ml</td>\n",
       "    </tr>\n",
       "    <tr>\n",
       "      <th>29</th>\n",
       "      <td>411.0</td>\n",
       "      <td>Rare pearls by avon for women - eau de parfum,...</td>\n",
       "    </tr>\n",
       "    <tr>\n",
       "      <th>30</th>\n",
       "      <td>80.0</td>\n",
       "      <td>Fogg extreme perfume spray for unisex - 120 ml</td>\n",
       "    </tr>\n",
       "    <tr>\n",
       "      <th>31</th>\n",
       "      <td>80.0</td>\n",
       "      <td>Fogg perfume spray 120 ml - celebrate</td>\n",
       "    </tr>\n",
       "    <tr>\n",
       "      <th>32</th>\n",
       "      <td>84.0</td>\n",
       "      <td>Man look after shave balm w. aloe vera for sen...</td>\n",
       "    </tr>\n",
       "    <tr>\n",
       "      <th>33</th>\n",
       "      <td>175.0</td>\n",
       "      <td>ZAK Rebel Spray For Men, Eau De Toilette - 175 ml</td>\n",
       "    </tr>\n",
       "    <tr>\n",
       "      <th>34</th>\n",
       "      <td>138.0</td>\n",
       "      <td>AVUVA Body Splash Passion Fruit 253 ml</td>\n",
       "    </tr>\n",
       "    <tr>\n",
       "      <th>35</th>\n",
       "      <td>235.0</td>\n",
       "      <td>NIVEA MEN After Shave Lotion, DEEP Antibacteri...</td>\n",
       "    </tr>\n",
       "    <tr>\n",
       "      <th>36</th>\n",
       "      <td>84.0</td>\n",
       "      <td>Fa Perfect Wave Refreshing Eau De Cologne For ...</td>\n",
       "    </tr>\n",
       "    <tr>\n",
       "      <th>37</th>\n",
       "      <td>60.0</td>\n",
       "      <td>Purity - Rosehip Oil Unrefined , Carrier for E...</td>\n",
       "    </tr>\n",
       "    <tr>\n",
       "      <th>38</th>\n",
       "      <td>317.0</td>\n",
       "      <td>FOGG SCENT Oud for Men, Eau de Parfum - 100 ml</td>\n",
       "    </tr>\n",
       "    <tr>\n",
       "      <th>39</th>\n",
       "      <td>78.0</td>\n",
       "      <td>FOGG Masters Body Spray Cedar For Men</td>\n",
       "    </tr>\n",
       "    <tr>\n",
       "      <th>40</th>\n",
       "      <td>665.0</td>\n",
       "      <td>Prime Sauvage Perfume for Men - 100 ml</td>\n",
       "    </tr>\n",
       "  </tbody>\n",
       "</table>\n",
       "</div>"
      ],
      "text/plain": [
       "    Price                                               Name\n",
       "0    80.0  Purity - Rosemary Oil Steam Distilled 100% Pur...\n",
       "1    78.0          Fogg marco perfume spray for men - 120 ml\n",
       "2    78.0              Fogg royal perfume spray men - 120 ml\n",
       "3   414.0  La Muse Salute Man by La Muse Eau De Parfum Sp...\n",
       "4   175.0  Rosemary oil for hair, rosemary oil for hair g...\n",
       "5    61.0                Eau de cologne twist berries 250 ml\n",
       "6    32.0              X Pocket Men's Leather & Cookies 17ml\n",
       "7    70.0               JOHNSON’S Baby Cologne, Dream, 100ml\n",
       "8   175.0      Fogg scent oud for men, eau de parfum - 50 ml\n",
       "9    70.0             AVUVA Body Splash Vanilla Coconut 55ml\n",
       "10  472.0  One Man Show by Jacques Bogart For Men, Eau de...\n",
       "11   78.0          Fogg absolute unisex perfume spray, 120ml\n",
       "12   84.0     Fogg DYNAMIC Perfume Spray For Unisex - 120 Ml\n",
       "13   78.0      Fogg VICTOR Perfume Spray For Unisex - 120 Ml\n",
       "14  203.0  Eva Skin Care Senses Body Splash - In the Clou...\n",
       "15   80.0       Fogg Essence Perfume Spray For Women - 120ml\n",
       "16  911.0            Guess gold eau de parfum for women 75ml\n",
       "17  678.0  Jaguar Men`s Classic Black Eau De Toilette Spr...\n",
       "18   26.0              Fogg Perfume Spray Pocket - OAK 17 ML\n",
       "19  159.0  Fogg scent oriental for men, eau de parfum - 5...\n",
       "20   60.0  Purity - Tea Tree Essential Oil , 100% Pure Na...\n",
       "21  190.0  Eva Skin Care Senses Body Splash - Love Tale 2...\n",
       "22  388.0                  Avon far away for women edp 50 ml\n",
       "23   51.0             AVUVA Body Splash Cherry Blossom 55 ml\n",
       "24   68.0   Musk Al Tahara Pure Saudi Altahara Perfume White\n",
       "25  126.0  KAYZON Travel Mini Perfume Refillable Atomizer...\n",
       "26  678.0  Jaguar classic black eau de toilette spray 3.4...\n",
       "27  539.0        GIORGIO BLACK SPECIAL EDITION (M) EDP 100ml\n",
       "28  174.0           AVUVA Body Splash Vanilla Coconut 253 ml\n",
       "29  411.0  Rare pearls by avon for women - eau de parfum,...\n",
       "30   80.0     Fogg extreme perfume spray for unisex - 120 ml\n",
       "31   80.0              Fogg perfume spray 120 ml - celebrate\n",
       "32   84.0  Man look after shave balm w. aloe vera for sen...\n",
       "33  175.0  ZAK Rebel Spray For Men, Eau De Toilette - 175 ml\n",
       "34  138.0             AVUVA Body Splash Passion Fruit 253 ml\n",
       "35  235.0  NIVEA MEN After Shave Lotion, DEEP Antibacteri...\n",
       "36   84.0  Fa Perfect Wave Refreshing Eau De Cologne For ...\n",
       "37   60.0  Purity - Rosehip Oil Unrefined , Carrier for E...\n",
       "38  317.0     FOGG SCENT Oud for Men, Eau de Parfum - 100 ml\n",
       "39   78.0              FOGG Masters Body Spray Cedar For Men\n",
       "40  665.0             Prime Sauvage Perfume for Men - 100 ml"
      ]
     },
     "execution_count": 46,
     "metadata": {},
     "output_type": "execute_result"
    }
   ],
   "source": [
    "amazon"
   ]
  },
  {
   "cell_type": "markdown",
   "id": "57a133a6-d5d8-4983-9120-e2cf5e6db640",
   "metadata": {},
   "source": [
    "--------------------------------"
   ]
  },
  {
   "cell_type": "markdown",
   "id": "392db4c5-9ff1-4414-a65f-fd920677bba7",
   "metadata": {},
   "source": [
    "# Analysis using `pandas` \n",
    "# Visualization using `matplotlib` and `seaborn`\n",
    "### Descriptive statistics, data visualization, correlation analysis and so on..."
   ]
  },
  {
   "cell_type": "code",
   "execution_count": 47,
   "id": "3b976388-3e2b-46ab-a531-d8b38a4f5870",
   "metadata": {},
   "outputs": [
    {
     "name": "stdout",
     "output_type": "stream",
     "text": [
      "Setup Complete\n"
     ]
    }
   ],
   "source": [
    "import pandas as pd\n",
    "pd.plotting.register_matplotlib_converters()\n",
    "import matplotlib.pyplot as plt\n",
    "%matplotlib inline\n",
    "import seaborn as sns\n",
    "print(\"Setup Complete\")"
   ]
  },
  {
   "cell_type": "markdown",
   "id": "c56ae2fc-a647-4c74-a119-86c1c6dda0fe",
   "metadata": {},
   "source": [
    "# Descriptive Questions(3):  what happened ?"
   ]
  },
  {
   "cell_type": "markdown",
   "id": "0b2201cd-9686-4e7a-83d3-cb3fe778de9a",
   "metadata": {},
   "source": [
    "## Q1)What is the range of prices for the products in the dataset?\r\n"
   ]
  },
  {
   "cell_type": "markdown",
   "id": "7a30344c-02cb-4270-b1bc-05ca13ad84d2",
   "metadata": {},
   "source": [
    "## Analysis"
   ]
  },
  {
   "cell_type": "code",
   "execution_count": 48,
   "id": "35417029-9619-4f19-8035-c9c28081ae3f",
   "metadata": {},
   "outputs": [
    {
     "name": "stdout",
     "output_type": "stream",
     "text": [
      "Price range after removing outliers: 388.0\n",
      "Interquartile range (IQR): 157.0\n"
     ]
    }
   ],
   "source": [
    "Q1 = amazon['Price'].quantile(0.25)\n",
    "Q3 = amazon['Price'].quantile(0.75)\n",
    "IQR = Q3 - Q1\n",
    "\n",
    "lower_bound = Q1 - 1.5 * IQR\n",
    "upper_bound = Q3 + 1.5 * IQR\n",
    "\n",
    "filtered_df = amazon[(amazon['Price'] >= lower_bound) & (amazon['Price'] <= upper_bound)]\n",
    "\n",
    "price_range = filtered_df['Price'].max() - filtered_df['Price'].min()\n",
    "print(\"Price range after removing outliers:\", price_range)\n",
    "print(\"Interquartile range (IQR):\", IQR)\n"
   ]
  },
  {
   "cell_type": "markdown",
   "id": "f475bbe6-842b-4b90-99bb-f01cd789ab9b",
   "metadata": {},
   "source": [
    "## Visualization"
   ]
  },
  {
   "cell_type": "code",
   "execution_count": 49,
   "id": "f892a79e-696b-4c00-be7c-72199b595660",
   "metadata": {},
   "outputs": [
    {
     "data": {
      "image/png": "[encoded data removed]",
      "text/plain": [
       "<Figure size 1000x600 with 1 Axes>"
      ]
     },
     "metadata": {},
     "output_type": "display_data"
    }
   ],
   "source": [
    "\n",
    "plt.figure(figsize=(10, 6))\n",
    "sns.boxplot(data=amazon, x='Price')\n",
    "plt.title('Price Distribution')\n",
    "plt.xlabel('Price')\n",
    "plt.show()\n"
   ]
  },
  {
   "cell_type": "markdown",
   "id": "d77f475c-62c3-463e-a281-d4b550e36ab3",
   "metadata": {},
   "source": [
    "-----------------------------"
   ]
  },
  {
   "cell_type": "markdown",
   "id": "6fd15f50-9085-4bfb-bee2-68f07d73d06b",
   "metadata": {},
   "source": [
    "## Q2)Which product has the highest price, and what is the price?\r\n"
   ]
  },
  {
   "cell_type": "markdown",
   "id": "208c7292-2610-402a-ac80-ad60acd37ee4",
   "metadata": {},
   "source": [
    "## Analysis"
   ]
  },
  {
   "cell_type": "code",
   "execution_count": 50,
   "id": "28ef6d42-6d2e-4c06-adc7-fade238c2c18",
   "metadata": {},
   "outputs": [
    {
     "name": "stdout",
     "output_type": "stream",
     "text": [
      "Product with highest price:\n",
      "    Price                                     Name\n",
      "16  911.0  Guess gold eau de parfum for women 75ml\n"
     ]
    }
   ],
   "source": [
    "highest_price = amazon[amazon['Price'] == amazon['Price'].max()]\n",
    "print(\"Product with highest price:\")\n",
    "print(highest_price)\n"
   ]
  },
  {
   "cell_type": "markdown",
   "id": "82b83d78-d4cb-465d-a0e4-c473497be915",
   "metadata": {},
   "source": [
    "## Visualization"
   ]
  },
  {
   "cell_type": "code",
   "execution_count": 51,
   "id": "0b6b3dff-35ec-40bc-840e-6a0641387c7b",
   "metadata": {},
   "outputs": [
    {
     "data": {
      "image/png": "[encoded data removed]",
      "text/plain": [
       "<Figure size 800x600 with 1 Axes>"
      ]
     },
     "metadata": {},
     "output_type": "display_data"
    }
   ],
   "source": [
    "\n",
    "plt.figure(figsize=(8, 6))\n",
    "plt.boxplot(amazon['Price'], vert=False)\n",
    "plt.title('Distribution of Product Prices')\n",
    "plt.xlabel('Price (EGP)')\n",
    "plt.yticks([])\n",
    "plt.show()\n"
   ]
  },
  {
   "cell_type": "markdown",
   "id": "28568c3a-23eb-4d44-ba14-78c147c80586",
   "metadata": {},
   "source": [
    "----------------"
   ]
  },
  {
   "cell_type": "markdown",
   "id": "275359ee-625e-4f5e-ae0d-645510b150c9",
   "metadata": {},
   "source": [
    "## Q3)What is the lowest price of the products?\r\n"
   ]
  },
  {
   "cell_type": "markdown",
   "id": "9f1ab856-e48a-4aa5-bb0b-1d96c74d751c",
   "metadata": {},
   "source": [
    "## Analysis"
   ]
  },
  {
   "cell_type": "code",
   "execution_count": 55,
   "id": "8d1a3db3-bdd7-4eb1-b161-ba1818f3db1b",
   "metadata": {},
   "outputs": [
    {
     "name": "stdout",
     "output_type": "stream",
     "text": [
      "Lowest price of the products: 26.0 EGP\n"
     ]
    }
   ],
   "source": [
    "lowest_price = amazon['Price'].min()\n",
    "print(\"Lowest price of the products:\", lowest_price, \"EGP\")\n"
   ]
  },
  {
   "cell_type": "markdown",
   "id": "63e87cc4-1297-4d44-b6e2-a898677ed1cf",
   "metadata": {},
   "source": [
    "## Visualization"
   ]
  },
  {
   "cell_type": "code",
   "execution_count": 65,
   "id": "2b9d0ec9-211e-42a4-8288-d53525acd818",
   "metadata": {},
   "outputs": [
    {
     "data": {
      "image/png": "[encoded data removed]",
      "text/plain": [
       "<Figure size 600x400 with 1 Axes>"
      ]
     },
     "metadata": {},
     "output_type": "display_data"
    }
   ],
   "source": [
    "\n",
    "plt.figure(figsize=(6, 4))\n",
    "sns.barplot(x='Price', y='Name', data=lowest_price)\n",
    "plt.title('Product with the Lowest Price')\n",
    "plt.xlabel('Price')\n",
    "plt.ylabel('Product')\n",
    "plt.show()\n"
   ]
  },
  {
   "cell_type": "markdown",
   "id": "ebf3bbcc-228d-4b8e-afee-9657dc865f0b",
   "metadata": {},
   "source": [
    "--------------"
   ]
  },
  {
   "cell_type": "markdown",
   "id": "54f09c40-7c1c-4977-8498-d7ede053b8e8",
   "metadata": {},
   "source": [
    "# Diagnostic Questions(3):  why did it happen?"
   ]
  },
  {
   "cell_type": "markdown",
   "id": "f8d4b635-0d24-4bdd-8622-a06fad2073f8",
   "metadata": {},
   "source": [
    "## Q4)Why do some products have higher prices than others?\r\n",
    "\r\n"
   ]
  },
  {
   "cell_type": "markdown",
   "id": "2f668718-b52f-47b9-a5ca-25e4879994da",
   "metadata": {},
   "source": [
    "## Analysis"
   ]
  },
  {
   "cell_type": "code",
   "execution_count": 77,
   "id": "07f2351d-9c98-4dcb-8cc8-9d5c438b78a9",
   "metadata": {},
   "outputs": [],
   "source": [
    "amazon['Price'] = pd.to_numeric(amazon['Price'], errors='coerce')\n",
    "\n",
    "top_prices = amazon.nlargest(5, 'Price')\n"
   ]
  },
  {
   "cell_type": "markdown",
   "id": "d61f93f7-4765-4c6e-bebc-d3c9590c3296",
   "metadata": {},
   "source": [
    "## Visualization"
   ]
  },
  {
   "cell_type": "code",
   "execution_count": 78,
   "id": "fbd6afb1-0cb7-4f94-ade5-3fd139656bab",
   "metadata": {},
   "outputs": [
    {
     "data": {
      "image/png": "[encoded data removed]",
      "text/plain": [
       "<Figure size 1000x600 with 1 Axes>"
      ]
     },
     "metadata": {},
     "output_type": "display_data"
    }
   ],
   "source": [
    "\n",
    "plt.figure(figsize=(10, 6))\n",
    "sns.barplot(x='Name', y='Price', data=top_prices)\n",
    "plt.title('Top 10 Products with the Highest Prices')\n",
    "plt.xlabel('Name')\n",
    "plt.ylabel('Price')\n",
    "plt.xticks(rotation=90)\n",
    "plt.show()\n"
   ]
  },
  {
   "cell_type": "markdown",
   "id": "0f56b353-07ae-4874-b897-72e8b919976f",
   "metadata": {},
   "source": [
    "-------------------------------------"
   ]
  },
  {
   "cell_type": "markdown",
   "id": "85951c19-8f40-42f7-929e-7b0cc95b40b7",
   "metadata": {},
   "source": [
    "## Q5)Why are some products priced lower than others?\r\n",
    "\r\n"
   ]
  },
  {
   "cell_type": "markdown",
   "id": "d7f17cad-037c-411b-ac23-d60a33b4b603",
   "metadata": {},
   "source": [
    "## Analysis"
   ]
  },
  {
   "cell_type": "code",
   "execution_count": 82,
   "id": "90bd71bc-2b2d-4f01-934d-546b4cf9ce20",
   "metadata": {},
   "outputs": [],
   "source": [
    "bottom_prices = amazon.nsmallest(10, 'Price')\n"
   ]
  },
  {
   "cell_type": "markdown",
   "id": "ac63f5d6-ee9b-4157-93db-5490f5e997da",
   "metadata": {},
   "source": [
    "## Visualization"
   ]
  },
  {
   "cell_type": "code",
   "execution_count": 83,
   "id": "c811c879-1312-44aa-af80-5848a2a77d55",
   "metadata": {},
   "outputs": [
    {
     "data": {
      "image/png": "[encoded data removed]",
      "text/plain": [
       "<Figure size 1000x600 with 1 Axes>"
      ]
     },
     "metadata": {},
     "output_type": "display_data"
    }
   ],
   "source": [
    "plt.figure(figsize=(10, 6))\n",
    "sns.barplot(x='Price', y='Name', data=bottom_prices, palette='viridis')\n",
    "plt.title('Top 10 Products with the Lowest Prices')\n",
    "plt.xlabel('Price')\n",
    "plt.ylabel('Product')\n",
    "plt.show()"
   ]
  },
  {
   "cell_type": "markdown",
   "id": "9203562f-a2ed-480f-b840-51da21b55111",
   "metadata": {},
   "source": [
    "-------------------------------------"
   ]
  },
  {
   "cell_type": "markdown",
   "id": "03801fee-0d56-4de1-b22d-11942c33c3d3",
   "metadata": {},
   "source": [
    "## Q6)What are the central tendencies (mean, mode, median) of product prices?\r\n",
    "\r\n"
   ]
  },
  {
   "cell_type": "markdown",
   "id": "a280300d-82cd-4221-b410-6469f931690b",
   "metadata": {},
   "source": [
    "## Analysis"
   ]
  },
  {
   "cell_type": "code",
   "execution_count": 84,
   "id": "9063ffe3-c492-483f-95ec-1782b4605e80",
   "metadata": {},
   "outputs": [],
   "source": [
    "mean_price = amazon['Price'].mean()\n",
    "mode_price = amazon['Price'].mode().values[0]\n",
    "median_price = amazon['Price'].median()"
   ]
  },
  {
   "cell_type": "markdown",
   "id": "c261be60-bad9-45d2-a147-9c85f1324ded",
   "metadata": {},
   "source": [
    "## Visualization"
   ]
  },
  {
   "cell_type": "code",
   "execution_count": 87,
   "id": "28fecab1-0a47-40bf-883d-d500d35c4e51",
   "metadata": {},
   "outputs": [
    {
     "data": {
      "image/png": "[encoded data removed]",
      "text/plain": [
       "<Figure size 1000x600 with 1 Axes>"
      ]
     },
     "metadata": {},
     "output_type": "display_data"
    },
    {
     "name": "stdout",
     "output_type": "stream",
     "text": [
      "Mean price: 211.78048780487805\n",
      "Mode price: 78.0\n",
      "Median price: 84.0\n"
     ]
    }
   ],
   "source": [
    "\n",
    "plt.figure(figsize=(10, 6))\n",
    "sns.boxplot(x=amazon['Price'], showmeans=True, meanline=True, showcaps=True, medianprops={'color':'red'}, meanprops={'color':'green', 'linestyle':'--'}, whiskerprops={'linewidth':2, 'color':'black'}, flierprops={'marker':'o', 'markerfacecolor':'red', 'markersize':10}, boxprops={'color':'purple'})\n",
    "plt.axvline(mean_price, color='green', linestyle='--', label='Mean')\n",
    "plt.axvline(mode_price, color='blue', linestyle='--', label='Mode')\n",
    "plt.axvline(median_price, color='red', linestyle='--', label='Median')\n",
    "plt.legend()\n",
    "plt.title('Distribution of Product Prices')\n",
    "plt.xlabel('Price')\n",
    "plt.show()\n",
    "\n",
    "print(f\"Mean price: {mean_price}\")\n",
    "print(f\"Mode price: {mode_price}\")\n",
    "print(f\"Median price: {median_price}\")\n"
   ]
  },
  {
   "cell_type": "markdown",
   "id": "63ed2fd8-2be5-4878-9a10-de850f96d8c7",
   "metadata": {},
   "source": [
    "-------------------------------------"
   ]
  },
  {
   "cell_type": "markdown",
   "id": "b6136b18-85c5-420d-bb9e-7b16ed1bc0da",
   "metadata": {},
   "source": [
    "## References\n",
    "\n",
    "[Web-Scraping-Source-Amazon-Website](https://www.amazon.eg/s?i=beauty&rh=n%3A21826026031&dc&fs=true&language=en&qid=1714929530&rnid=21909125031&ref=sr_pg_1)\n",
    "\n",
    "https://www.youtube.com/watch?v=h64Xbgoa6i4\n",
    "\n",
    "https://www.youtube.com/watch?v=cdjL3wKMF5s"
   ]
  },
  {
   "cell_type": "markdown",
   "id": "96004caf-dd60-43f7-9ee1-89da5205ee44",
   "metadata": {},
   "source": [
    "-----------------------------------"
   ]
  },
  {
   "cell_type": "markdown",
   "id": "0ecdbece-9e82-4a6d-b7f5-43212886cd2d",
   "metadata": {},
   "source": [
    "# Nermeen Kamal `42110428`\n",
    "# Nour Khaled  `42110205`"
   ]
  },
  {
   "cell_type": "markdown",
   "id": "fc05d0fb-4892-48bc-b425-a9d367503c3e",
   "metadata": {},
   "source": [
    "--------------------------------------"
   ]
  },
  {
   "cell_type": "markdown",
   "id": "b3d6cdc0-135b-4e0d-ae6d-8891ae8a2668",
   "metadata": {},
   "source": [
    "# THANK YOU !!!"
   ]
  }
 ],
 "metadata": {
  "kernelspec": {
   "display_name": "Python 3 (ipykernel)",
   "language": "python",
   "name": "python3"
  },
  "language_info": {
   "codemirror_mode": {
    "name": "ipython",
    "version": 3
   },
   "file_extension": ".py",
   "mimetype": "text/x-python",
   "name": "python",
   "nbconvert_exporter": "python",
   "pygments_lexer": "ipython3",
   "version": "3.11.7"
  }
 },
 "nbformat": 4,
 "nbformat_minor": 5
}
